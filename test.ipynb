{
  "nbformat": 4,
  "nbformat_minor": 0,
  "metadata": {
    "colab": {
      "name": "Untitled6.ipynb",
      "provenance": [],
      "authorship_tag": "ABX9TyP4o2SIZtfQPc40iaqsNclq",
      "include_colab_link": true
    },
    "kernelspec": {
      "name": "python3",
      "display_name": "Python 3"
    },
    "language_info": {
      "name": "python"
    }
  },
  "cells": [
    {
      "cell_type": "markdown",
      "metadata": {
        "id": "view-in-github",
        "colab_type": "text"
      },
      "source": [
        "<a href=\"https://colab.research.google.com/github/tomroesch/tomroesch.github.io/blob/master/test.ipynb\" target=\"_parent\"><img src=\"https://colab.research.google.com/assets/colab-badge.svg\" alt=\"Open In Colab\"/></a>"
      ]
    },
    {
      "cell_type": "markdown",
      "source": [
        "2022 Rachel Banks and Soichi Hirokawa. This work is licensed under a [Creative Commons Attribution License CC-BY 4.0](https://creativecommons.org/licenses/by/4.0/). All code contained herein is licensed under an [MIT license](https://opensource.org/licenses/MIT) \n",
        "\n",
        "This exercise was generated from a Jupyter notebook. You can download the notebook [here](tn_kinetic_proofreading.ipynb).\n",
        "\n",
        "# Gillespie Simulations on Kinetic Proofreading"
      ],
      "metadata": {
        "id": "guKogqPak3Bv"
      }
    },
    {
      "cell_type": "code",
      "source": [
        "import numpy as np\n",
        "import matplotlib.pyplot as plt\n",
        "\n",
        "%matplotlib inline"
      ],
      "metadata": {
        "id": "UVdgEXznko5m"
      },
      "execution_count": null,
      "outputs": []
    },
    {
      "cell_type": "markdown",
      "source": [
        "## Example 2: Using Gillespie simulations on kinetic proofreading to understand energetic cost, speed and fidelity tradeoffs. \n",
        "\n",
        "In a previous tutorial, we showed a simple example of applying Gillespie simulations in the context of ligand-receptor binding. In that example, after a new event occurs, we knew what the next state would be: if the receptor is unbound, then the new event would be that the receptor is unbound, and vice versa (Tom: Shouldn't one state be \"bound\" here? [4]). Gillespie simulations need not be limited to two-state systems. In this tutorial, we will use Gillespie simulations on a system that involves more than one stochastic process: kinetic proofreading. We will consider the ribosome, which uses kinetic proofreading to select for the correct amino acid over all the wrong ones. In brief, the ribosome adds amino acids to the growing peptide chain by binding a tRNA charged with an amino acid and bound to GTP. Upon GTP hydrolysis, the ribosome enters an activated state, and then the amino acid can be added to the polypeptide chain. In this process, there are a few steps that distinguish between the correct C and wrong W amino acid: binding and unbinding of the charged tRNA with the ribosome, GTP hydrolysis rate, and incorporation of the amino acid. In the classic Hopfield-Ninio model of kinetic proofreading, only the unbinding rates of the correct and wrong amino acids differ. The unbinding rate of wrong amino acids is higher than for correct amino acids, meaning that wrong amino acids are more likely to unbind from the ribosome. "
      ],
      "metadata": {
        "id": "P4xCYflGkrOC"
      }
    },
    {
      "cell_type": "code",
      "source": [
        "**The Model** \n",
        "\n",
        "We will consider that the ribosome can be in five states labeled according to the diagram taken from Chen *et al.*, 2020:\n",
        "\n",
        "0.   free (unbound)\n",
        "1.   bound to the correct tRNA with GTP\n",
        "2.   bound to the wrong tRNA with GTP\n",
        "3.   bound to the correct tRNA with GDP\n",
        "4.   bound to the wrong tRNA with GDP"
      ],
      "metadata": {
        "id": "jIDlrIXQkrrt"
      },
      "execution_count": null,
      "outputs": []
    }
  ]
}